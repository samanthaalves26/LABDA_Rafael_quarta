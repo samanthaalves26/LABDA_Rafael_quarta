{
 "cells": [
  {
   "cell_type": "markdown",
   "id": "1f5dd1a6-a81d-40dd-b8aa-146a8f761a96",
   "metadata": {},
   "source": [
    "# Web Scraping com Selenium\n",
    "Nesta aula iremos criar uma **automação na internet** utilizando a biblioteca Selenium "
   ]
  },
  {
   "cell_type": "markdown",
   "id": "88408628-a9a6-4948-9361-472a62a95bd8",
   "metadata": {},
   "source": [
    "#### Passo 1: Instalar biblioteca"
   ]
  },
  {
   "cell_type": "code",
   "execution_count": 1,
   "id": "c2aa90a2-5dde-4855-a7dc-4250c7dddb12",
   "metadata": {},
   "outputs": [
    {
     "name": "stdout",
     "output_type": "stream",
     "text": [
      "Defaulting to user installation because normal site-packages is not writeable\n",
      "Collecting webdriver-manager\n",
      "  Downloading webdriver_manager-4.0.2-py2.py3-none-any.whl.metadata (12 kB)\n",
      "Requirement already satisfied: requests in c:\\programdata\\anaconda3\\lib\\site-packages (from webdriver-manager) (2.32.3)\n",
      "Requirement already satisfied: python-dotenv in c:\\programdata\\anaconda3\\lib\\site-packages (from webdriver-manager) (0.21.0)\n",
      "Requirement already satisfied: packaging in c:\\programdata\\anaconda3\\lib\\site-packages (from webdriver-manager) (24.1)\n",
      "Requirement already satisfied: charset-normalizer<4,>=2 in c:\\programdata\\anaconda3\\lib\\site-packages (from requests->webdriver-manager) (3.3.2)\n",
      "Requirement already satisfied: idna<4,>=2.5 in c:\\programdata\\anaconda3\\lib\\site-packages (from requests->webdriver-manager) (3.7)\n",
      "Requirement already satisfied: urllib3<3,>=1.21.1 in c:\\users\\faculdade\\appdata\\roaming\\python\\python312\\site-packages (from requests->webdriver-manager) (2.5.0)\n",
      "Requirement already satisfied: certifi>=2017.4.17 in c:\\users\\faculdade\\appdata\\roaming\\python\\python312\\site-packages (from requests->webdriver-manager) (2025.8.3)\n",
      "Downloading webdriver_manager-4.0.2-py2.py3-none-any.whl (27 kB)\n",
      "Installing collected packages: webdriver-manager\n",
      "Successfully installed webdriver-manager-4.0.2\n"
     ]
    }
   ],
   "source": [
    "# Remova o comentário(#) da linha abaixo caso esteja executando este script pela primeira vez\n",
    "!pip install --upgrade selenium\n",
    "!pip install webdriver-manager"
   ]
  },
  {
   "cell_type": "markdown",
   "id": "548ca07b-7101-4a26-9986-afe815ae4efd",
   "metadata": {},
   "source": [
    "#### Passo 2: Importar bibliotecas"
   ]
  },
  {
   "cell_type": "code",
   "execution_count": 9,
   "id": "59232c20-b5d0-43be-aecd-6f037cf4ca27",
   "metadata": {},
   "outputs": [],
   "source": [
    "import pandas as pd\n",
    "\n",
    "# Esse módulo fornece a classe principal para criar e controlar instãncias do navegador\n",
    "from selenium import webdriver\n",
    "\n",
    "# Iniciar/Parar o Chrome, Configurar opções de execução, definir caminhos do executável\n",
    "from selenium.webdriver.chrome.service import Service\n",
    "\n",
    "# Módulo para gerenciamento do ChromeDriver\n",
    "from webdriver_manager.chrome import ChromeDriverManager\n",
    "\n",
    "# Módulo para localização de elementos na página\n",
    "from selenium.webdriver.common.by import By\n",
    "\n",
    "# Módulo para simular as teclas\n",
    "from selenium.webdriver.common.keys import Keys"
   ]
  },
  {
   "cell_type": "markdown",
   "id": "b4c6e831-f1e7-46e7-a2be-80d64c6c4424",
   "metadata": {},
   "source": [
    "#### Passo 3: Criar navegador"
   ]
  },
  {
   "cell_type": "code",
   "execution_count": 12,
   "id": "0d96dc3e-a1d3-4a10-a8e5-cd4270a5ba58",
   "metadata": {},
   "outputs": [],
   "source": [
    "driver = webdriver.Chrome(service=Service(ChromeDriverManager().install()))"
   ]
  },
  {
   "cell_type": "markdown",
   "id": "993f5ac6-523a-4b5f-a52f-1d0951dfb3d9",
   "metadata": {},
   "source": [
    "#### Passo 4: Acessar site"
   ]
  },
  {
   "cell_type": "code",
   "execution_count": 13,
   "id": "b2cefc4d-6cc5-4666-a6f2-1c48d481bcab",
   "metadata": {},
   "outputs": [],
   "source": [
    "driver.get('http://www.google.com.br/')"
   ]
  },
  {
   "cell_type": "markdown",
   "id": "0fee1e22-fdce-41d0-ac84-e714c7c76682",
   "metadata": {},
   "source": [
    "#### Passo 5: Fechar navegador"
   ]
  },
  {
   "cell_type": "code",
   "execution_count": 14,
   "id": "a9a7c221-2d0c-44aa-aaa3-e6da8c2986b8",
   "metadata": {},
   "outputs": [],
   "source": [
    "driver.quit()"
   ]
  },
  {
   "cell_type": "markdown",
   "id": "ac4e32c8-8f3c-44c1-a390-07158ee9d325",
   "metadata": {},
   "source": [
    "#### Passo 6: Acessar site e obter elementos elementos html\n",
    "\n",
    "Para obter os elementos do site existem basicamente dois comandos\n",
    "- find_element() -> Para acessar apenas um elemento\n",
    "- find_elements() -> Para acessar vários elementos de uma vez\n",
    "\n",
    "A partir destes comandos podemos usar vários métodos de seleção, por:\n",
    "- **tag_name:** Localiza elementos com nome de tag correspondente ao valor de pesquisa\n",
    "- **id:** Localiza elementos com atributo ID correspondente ao valor de pesquisa\n",
    "- **class_name:** Localiza elementos com nome de classe que contém o valor de pesquisa (nomes de classe compostos não são permitidos)\n",
    "- **css_selector:** Localiza elementos que correspondem a um seletor CSS\n",
    "- **name:** Localiza elementos com atributo NAME correspondente ao valor de pesquisa\n",
    "- **xpath:** Localiza elementos que correspondem a uma empressão XPath\n",
    "- **link_text:** Localiza elementos âncora em que o texto visível corresponde ao valor de pesquisa\n",
    "- **partial link text:** Localiza elementos âncora em que o texto visível contém o valor de pesquisa. Se vários elementos forem correspondentes, apenas o primeiro será selecionado\n",
    "\n",
    "Após selecionar os elementos podemos executar algumas ações:\n",
    "- **click():** Simula um clique do mouse em um elemento. Exemplo: elemento.click().\n",
    "- **send_keys('Text'):** Insira texto em um campo. Exemplo: elemento.send_keys(\"texto a ser inserido\").\n",
    "- **clear():** Remova o texto existente em um campo de texto. Exemplo: elemento.clear().\n",
    "- **submit():** Envie um formulário. Exemplo: elemento.submit().\n",
    "- **select_by_visible_text('Texto'):** Selecione uma opção em uma lista suspensa por texto visível. Exemplo: elemento.select_by_visible_text(\"Opção Desejada\").\n",
    "- **Keys.ENTER:** Simula a tecla Enter. Pode ser usado em combinação com send_keys()para enviar formulários ou em outras situações que desative a tecla Enter. Exemplo: elemento.send_keys(Keys.ENTER)."
   ]
  },
  {
   "cell_type": "code",
   "execution_count": 15,
   "id": "f758a563-053d-4ce6-8d2f-cef16abb9fe5",
   "metadata": {},
   "outputs": [],
   "source": [
    "driver = webdriver.Chrome(service=Service(ChromeDriverManager().install()))\n",
    "driver.get('https://www.periodicos.capes.gov.br/')"
   ]
  },
  {
   "cell_type": "code",
   "execution_count": 16,
   "id": "079ad1d9-1663-43e1-b31c-d8b8c0252079",
   "metadata": {},
   "outputs": [],
   "source": [
    "# Seleciona o campo de busca pelo id\n",
    "campo_busca = driver.find_element(By.ID, 'input-busca-home')"
   ]
  },
  {
   "cell_type": "code",
   "execution_count": 17,
   "id": "36952ed0-25ed-408c-b5da-dde18f9067e9",
   "metadata": {},
   "outputs": [],
   "source": [
    "# Escreve um texto no campo de busca\n",
    "campo_busca.send_keys('Irlen Syndrome', Keys.ENTER)"
   ]
  },
  {
   "cell_type": "code",
   "execution_count": 33,
   "id": "a770adec-8d7c-49d8-9578-69e9e65a96cd",
   "metadata": {},
   "outputs": [],
   "source": [
    "#driver.find_element(By.XPATH, '//*[@id=\"busca-avancada\"]/div/div/div/div/button').click()"
   ]
  },
  {
   "cell_type": "code",
   "execution_count": 18,
   "id": "81360487-bcc3-4d57-a14b-9b01669a969f",
   "metadata": {},
   "outputs": [],
   "source": [
    "driver.quit()"
   ]
  },
  {
   "cell_type": "code",
   "execution_count": null,
   "id": "58c5acf7-830a-4222-a9f2-0e0022c44f55",
   "metadata": {},
   "outputs": [],
   "source": []
  },
  {
   "cell_type": "markdown",
   "id": "ecd68dc7-83d7-4542-b4c2-17d16895a8ad",
   "metadata": {},
   "source": [
    "#### Passo 7: Obter elementos dos resultados de busca"
   ]
  },
  {
   "cell_type": "code",
   "execution_count": 42,
   "id": "94b8109f-9078-4653-977c-8b81f32037fe",
   "metadata": {},
   "outputs": [],
   "source": [
    "driver = webdriver.Chrome(service=Service(ChromeDriverManager().install()))"
   ]
  },
  {
   "cell_type": "code",
   "execution_count": 43,
   "id": "e1a39b2e-3a70-4b37-8ff7-d241cbe9b76c",
   "metadata": {},
   "outputs": [],
   "source": [
    "driver.get('https://www.periodicos.capes.gov.br/')"
   ]
  },
  {
   "cell_type": "code",
   "execution_count": 44,
   "id": "c00fc4de-04ea-4101-8e3d-5d5b477caff9",
   "metadata": {},
   "outputs": [],
   "source": [
    "campo_busca = driver.find_element(By.ID, 'input-busca-home')"
   ]
  },
  {
   "cell_type": "code",
   "execution_count": 45,
   "id": "6c1109c1-4711-4ed7-b184-5553e7a3897c",
   "metadata": {},
   "outputs": [],
   "source": [
    "campo_busca.send_keys('Irlen Syndrome')"
   ]
  },
  {
   "cell_type": "code",
   "execution_count": 46,
   "id": "03d1dfa0-71f0-4626-98ec-d905a2190884",
   "metadata": {},
   "outputs": [],
   "source": [
    "driver.find_element(By.XPATH, '//*[@id=\"busca-avancada\"]/div/div/div/div/button').click()"
   ]
  },
  {
   "cell_type": "code",
   "execution_count": 34,
   "id": "d36a4aa1-cc00-42fe-9871-e5797d276630",
   "metadata": {},
   "outputs": [
    {
     "data": {
      "text/plain": [
       "0"
      ]
     },
     "execution_count": 34,
     "metadata": {},
     "output_type": "execute_result"
    }
   ],
   "source": [
    "resultados = driver.find_elements(By.CLASS_NAME, 'titulo-busca')\n",
    "len(resultados)"
   ]
  },
  {
   "cell_type": "code",
   "execution_count": 37,
   "id": "b2cd61c7-8ab1-4347-a41e-a7f1790391ae",
   "metadata": {},
   "outputs": [
    {
     "data": {
      "text/plain": [
       "['Plasma Cholesterol Levels and Irlen Syndrome: Preliminary Study of 10- to 17-Yr.-Old Students',\n",
       " 'The need for optometric investigation in suspected Meares–Irlen syndrome or visual stress',\n",
       " 'Optometric correlates of Meares-Irlen Syndrome: a matched group study',\n",
       " 'Irlen syndrome: systematic review and level of evidence analysis',\n",
       " 'A Biochemical Analysis of People with Chronic Fatigue Who Have Irlen Syndrome: Speculation concerning Immune System Dysfunction',\n",
       " 'Irlen Colored Overlays Do not Alleviate Reading Difficulties',\n",
       " 'The interpretation of emotion from facial expressions for children with a visual sub‐type of dyslexia',\n",
       " 'The Familial Incidence of Symptoms of Scotopic Sensitivity/Irlen Syndrome',\n",
       " 'A preliminary investigation into the aetiology of Meares–Irlen syndrome',\n",
       " 'A Prospective Genetic Marker of the Visual-Perception Disorder Meares-Irlen Syndrome',\n",
       " 'The Familial Incidence of Symptoms of Scotopic Sensitivity/Irlen Syndrome: Comparison of Referred and Mass-Screened Groups',\n",
       " 'Functional Magnetic Resonance Imaging Findings in Meares-Irlen Syndrome: A Pilot Sudy',\n",
       " 'A review of the management of 323 consecutive patients seen in a specific learning difficulties clinic',\n",
       " 'A review of the management of 323 consecutive patients seen in a specific learning difficulties clinic',\n",
       " 'Understanding the causal mechanisms of visual processing problems: A possible biochemical basis for Irlen syndrome?',\n",
       " 'Colors, colored overlays, and reading skills',\n",
       " 'Visual processing characteristics of children with Meares–Irlen syndrome',\n",
       " 'The relationship between dyslexia and Meares‐Irlen Syndrome',\n",
       " 'The effect of coloured filters on the rate of reading in an adult student population',\n",
       " 'Clinical Characteristics of Patients With Dyslexia in Korea : Correlation With Meares-Irlen Syndrome',\n",
       " 'Specific Visual Symptoms and Signs of Meares-Irlen Syndrome in Korean',\n",
       " 'Meares–Irlen syndrome – a need for increasing awareness in the general public',\n",
       " 'Evaluation of visual stress symptoms in age-matched dyslexic, Meares-Irlen syndrome and normal adults',\n",
       " 'Coloured filters show gender differences and poor repeatability',\n",
       " 'Production of know ledge: genetic basis, biochemical and immunological of Meares-Irlen Syndrome',\n",
       " 'Screening for dyslexia, dyspraxia and Meares‐Irlen syndrome in higher education',\n",
       " 'Effect of Pattern Glare and Colored Overlays on a Simulated-Reading Task in Dyslexics and Normal Readers',\n",
       " 'The Interpretation of Emotion from Facial Expression for Children with Visual Processing Problems',\n",
       " 'Irlen Colored Filters in the Classroom: A 1‐Year Follow‐Up',\n",
       " 'Biocompatible Nanotransfer Printing Based on Water Bridge Formation in Hyaluronic Acid and Its Application to Smart Contact Lenses']"
      ]
     },
     "execution_count": 37,
     "metadata": {},
     "output_type": "execute_result"
    }
   ],
   "source": [
    "lista_de_titulos = []\n",
    "for i in resultados:\n",
    "    lista_de_titulos.append(i.text)\n",
    "lista_de_titulos"
   ]
  },
  {
   "cell_type": "code",
   "execution_count": 33,
   "id": "4b89e4d3-7c9f-4561-9843-5180567727e0",
   "metadata": {},
   "outputs": [
    {
     "ename": "NameError",
     "evalue": "name 'resultados' is not defined",
     "output_type": "error",
     "traceback": [
      "\u001b[1;31m---------------------------------------------------------------------------\u001b[0m",
      "\u001b[1;31mNameError\u001b[0m                                 Traceback (most recent call last)",
      "Cell \u001b[1;32mIn[33], line 2\u001b[0m\n\u001b[0;32m      1\u001b[0m lista_de_links \u001b[38;5;241m=\u001b[39m []\n\u001b[1;32m----> 2\u001b[0m \u001b[38;5;28;01mfor\u001b[39;00m i \u001b[38;5;129;01min\u001b[39;00m resultados:\n\u001b[0;32m      3\u001b[0m     lista_de_links\u001b[38;5;241m.\u001b[39mappend(i\u001b[38;5;241m.\u001b[39mget_attribute(\u001b[38;5;124m'\u001b[39m\u001b[38;5;124mhref\u001b[39m\u001b[38;5;124m'\u001b[39m))\n\u001b[0;32m      5\u001b[0m lista_de_links\n",
      "\u001b[1;31mNameError\u001b[0m: name 'resultados' is not defined"
     ]
    }
   ],
   "source": [
    "lista_de_links = []\n",
    "for i in resultados:\n",
    "    lista_de_links.append(i.get_attribute('href'))\n",
    "\n",
    "lista_de_links"
   ]
  },
  {
   "cell_type": "code",
   "execution_count": null,
   "id": "30497e98-c416-412a-a96e-2e55baa66931",
   "metadata": {},
   "outputs": [],
   "source": [
    "#acessar apenas um link\n",
    "driver.get(lista_de_links[0])"
   ]
  },
  {
   "cell_type": "code",
   "execution_count": null,
   "id": "003521c7-46bd-4c97-96b6-54e8da88a98c",
   "metadata": {},
   "outputs": [],
   "source": []
  },
  {
   "cell_type": "code",
   "execution_count": null,
   "id": "398426f3-26eb-4867-9d71-e3cc35855ee8",
   "metadata": {},
   "outputs": [],
   "source": []
  },
  {
   "cell_type": "code",
   "execution_count": null,
   "id": "ada9eda9-3fcb-4aca-95b6-5186c7221998",
   "metadata": {},
   "outputs": [],
   "source": []
  },
  {
   "cell_type": "code",
   "execution_count": null,
   "id": "45fe597b-b08b-4a79-8801-ca82b75a0e38",
   "metadata": {},
   "outputs": [],
   "source": []
  },
  {
   "cell_type": "code",
   "execution_count": null,
   "id": "14158503-b2bd-4515-b942-77a2d2c8fc68",
   "metadata": {},
   "outputs": [],
   "source": []
  },
  {
   "cell_type": "code",
   "execution_count": null,
   "id": "a1618d4c-ad1b-4ec2-8088-e14cf657906c",
   "metadata": {},
   "outputs": [],
   "source": []
  },
  {
   "cell_type": "code",
   "execution_count": null,
   "id": "50567024-2b3d-417d-939b-580e3cd6ee8e",
   "metadata": {},
   "outputs": [],
   "source": []
  },
  {
   "cell_type": "code",
   "execution_count": null,
   "id": "98e52f1c-6b32-4eca-83f2-5d7f80a76290",
   "metadata": {},
   "outputs": [],
   "source": []
  },
  {
   "cell_type": "code",
   "execution_count": null,
   "id": "4afe0753-bde8-4f77-b721-68153590f182",
   "metadata": {},
   "outputs": [],
   "source": []
  },
  {
   "cell_type": "code",
   "execution_count": null,
   "id": "bf2eeae2-ae85-45b8-9d14-c51636f4fb88",
   "metadata": {},
   "outputs": [],
   "source": []
  },
  {
   "cell_type": "code",
   "execution_count": null,
   "id": "c59d6631-4959-4e4a-8361-70d2a7ec4bc1",
   "metadata": {},
   "outputs": [],
   "source": []
  },
  {
   "cell_type": "markdown",
   "id": "e474d35c-5490-4dc3-b25d-c9767a6e6784",
   "metadata": {},
   "source": [
    "#### Exercício: Automatizar levantamento da literatura no site da Capes\n",
    "Extrair as informações abaixo de cada um dos links obtidos\n",
    "\n",
    "- Título\n",
    "- Ano\n",
    "- Editora\n",
    "- Volume\n",
    "- Edição\n",
    "- Idioma\n",
    "- DOI\n",
    "- ISSN\n",
    "- Autores\n",
    "- Tópico(s)\n",
    "- Resumo\n",
    "- Link"
   ]
  },
  {
   "cell_type": "code",
   "execution_count": null,
   "id": "a6cdc237-54de-424d-a10a-370c5d67e16d",
   "metadata": {},
   "outputs": [],
   "source": []
  }
 ],
 "metadata": {
  "kernelspec": {
   "display_name": "Python 3 (ipykernel)",
   "language": "python",
   "name": "python3"
  },
  "language_info": {
   "codemirror_mode": {
    "name": "ipython",
    "version": 3
   },
   "file_extension": ".py",
   "mimetype": "text/x-python",
   "name": "python",
   "nbconvert_exporter": "python",
   "pygments_lexer": "ipython3",
   "version": "3.12.11"
  }
 },
 "nbformat": 4,
 "nbformat_minor": 5
}
