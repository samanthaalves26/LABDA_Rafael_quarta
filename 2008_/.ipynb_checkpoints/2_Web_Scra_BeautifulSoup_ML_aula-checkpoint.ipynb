{
 "cells": [
  {
   "cell_type": "markdown",
   "id": "7240f6b8-11c3-4bfd-9103-f6224d8e8874",
   "metadata": {},
   "source": [
    "## Utilizando Web-Scraping para fazer pesquisa de preço"
   ]
  },
  {
   "cell_type": "markdown",
   "id": "e1888c26-7e2d-45de-b11a-631470a79311",
   "metadata": {},
   "source": [
    "#### Passo 1: instalar bibliotecas"
   ]
  },
  {
   "cell_type": "code",
   "execution_count": 1,
   "id": "9284d53d-5191-4bd5-a4f5-52f62a9d8e5c",
   "metadata": {},
   "outputs": [
    {
     "name": "stdout",
     "output_type": "stream",
     "text": [
      "Collecting requests\n",
      "  Downloading requests-2.32.5-py3-none-any.whl.metadata (4.9 kB)\n",
      "Requirement already satisfied: charset_normalizer<4,>=2 in c:\\python312\\lib\\site-packages (from requests) (3.4.2)\n",
      "Requirement already satisfied: idna<4,>=2.5 in c:\\python312\\lib\\site-packages (from requests) (3.10)\n",
      "Requirement already satisfied: urllib3<3,>=1.21.1 in c:\\python312\\lib\\site-packages (from requests) (2.4.0)\n",
      "Requirement already satisfied: certifi>=2017.4.17 in c:\\python312\\lib\\site-packages (from requests) (2025.1.31)\n",
      "Downloading requests-2.32.5-py3-none-any.whl (64 kB)\n",
      "   ---------------------------------------- 0.0/64.7 kB ? eta -:--:--\n",
      "   ------ --------------------------------- 10.2/64.7 kB ? eta -:--:--\n",
      "   ------------------------- -------------- 41.0/64.7 kB 653.6 kB/s eta 0:00:01\n",
      "   ---------------------------------------- 64.7/64.7 kB 698.7 kB/s eta 0:00:00\n",
      "Installing collected packages: requests\n",
      "Successfully installed requests-2.32.5\n"
     ]
    },
    {
     "name": "stderr",
     "output_type": "stream",
     "text": [
      "\n",
      "[notice] A new release of pip is available: 24.0 -> 25.2\n",
      "[notice] To update, run: python.exe -m pip install --upgrade pip\n"
     ]
    },
    {
     "name": "stdout",
     "output_type": "stream",
     "text": [
      "Collecting beautifulsoup4\n",
      "  Downloading beautifulsoup4-4.13.4-py3-none-any.whl.metadata (3.8 kB)\n",
      "Collecting soupsieve>1.2 (from beautifulsoup4)\n",
      "  Downloading soupsieve-2.7-py3-none-any.whl.metadata (4.6 kB)\n",
      "Requirement already satisfied: typing-extensions>=4.0.0 in c:\\python312\\lib\\site-packages (from beautifulsoup4) (4.14.0)\n",
      "Downloading beautifulsoup4-4.13.4-py3-none-any.whl (187 kB)\n",
      "   ---------------------------------------- 0.0/187.3 kB ? eta -:--:--\n",
      "   -- ------------------------------------- 10.2/187.3 kB ? eta -:--:--\n",
      "   -------------- ------------------------ 71.7/187.3 kB 975.2 kB/s eta 0:00:01\n",
      "   ---------------------------------------- 187.3/187.3 kB 1.6 MB/s eta 0:00:00\n",
      "Downloading soupsieve-2.7-py3-none-any.whl (36 kB)\n",
      "Installing collected packages: soupsieve, beautifulsoup4\n",
      "Successfully installed beautifulsoup4-4.13.4 soupsieve-2.7\n"
     ]
    },
    {
     "name": "stderr",
     "output_type": "stream",
     "text": [
      "\n",
      "[notice] A new release of pip is available: 24.0 -> 25.2\n",
      "[notice] To update, run: python.exe -m pip install --upgrade pip\n"
     ]
    }
   ],
   "source": [
    "# Remova o comentário(#) da linha abaixo caso esteja executando este script pela primeira vez\n",
    "!pip install requests\n",
    "!pip install beautifulsoup4"
   ]
  },
  {
   "cell_type": "markdown",
   "id": "ac61bf69-5175-4db4-8d63-dcd4e3565549",
   "metadata": {},
   "source": [
    "#### Passo 2: Importar bibliotecas"
   ]
  },
  {
   "cell_type": "code",
   "execution_count": 3,
   "id": "85835e40-e721-4d5f-8de7-dfed08a3d98c",
   "metadata": {},
   "outputs": [],
   "source": [
    "import requests\n",
    "from bs4 import BeautifulSoup\n",
    "import pandas as pd"
   ]
  },
  {
   "cell_type": "markdown",
   "id": "83c1cbb8-2bd8-4505-9d27-48919887c2ac",
   "metadata": {},
   "source": [
    "#### Passo 3: Formatar link de busca"
   ]
  },
  {
   "cell_type": "code",
   "execution_count": 7,
   "id": "7db42294-69a9-452a-bb41-c9ee18cc5adf",
   "metadata": {
    "scrolled": true
   },
   "outputs": [
    {
     "name": "stdout",
     "output_type": "stream",
     "text": [
      "https://lista.mercadolivre.com.br/smart-tv-70\n"
     ]
    }
   ],
   "source": [
    "# copie e cole o modelo do link de busca \n",
    "url_de_busca = 'https://lista.mercadolivre.com.br/'\n",
    "\n",
    "#informe a palavra chave para busca\n",
    "palavra_chave = 'smart tv 70'\n",
    "\n",
    "#formatar palavra chave conforme o modelo\n",
    "palavra_chave = palavra_chave.replace(' ','-' )\n",
    "\n",
    "#formar o link \n",
    "link = url_de_busca+palavra_chave\n",
    "print(link)"
   ]
  },
  {
   "cell_type": "markdown",
   "id": "1475c782-23b4-4dee-a926-aa6a43681eea",
   "metadata": {},
   "source": [
    "#### Passo 4: Obter informações do link"
   ]
  },
  {
   "cell_type": "code",
   "execution_count": 10,
   "id": "2bd8fe8a-bb36-47a9-a399-e7b35aebc49e",
   "metadata": {},
   "outputs": [
    {
     "name": "stdout",
     "output_type": "stream",
     "text": [
      "Cód de Status: 403\n"
     ]
    }
   ],
   "source": [
    "#Requisita informações do site\n",
    "response = requests.get(link)\n",
    "\n",
    "#Verifica status de acesso\n",
    "print('Cód de Status:', response.status_code)"
   ]
  },
  {
   "cell_type": "markdown",
   "id": "42d78cd4-57d3-4174-924f-538d0dbb3e9c",
   "metadata": {},
   "source": [
    "Esse **403 Forbidden** acontece porque o Mercado Livre (assim como outros grandes e-commerces) possui mecanismos de proteção contra bots e scrapers simples, e o requests.get() sem nenhum cabeçalho já denuncia que não é um navegador “de verdade”."
   ]
  },
  {
   "cell_type": "markdown",
   "id": "8d258d03-a29b-4461-98d4-0b6233e4be34",
   "metadata": {},
   "source": [
    "#### 4.1 Usar um User-Agent válido\n",
    "\n",
    "Alguns sites **bloqueiam requisições que não parecem vir de navegadores**. Então você pode **enviar cabeçalhos simulando um browser**.\n",
    "\n",
    "##### Para criar um User-Agent (real)\n",
    "- Identifique qual é a versão do seu navegador acessando, por exemplo, a URL chrome://settings/help\n",
    "- Crie um cabeçalho com a versão do seu navegador."
   ]
  },
  {
   "cell_type": "code",
   "execution_count": 11,
   "id": "38ab6549-06af-4945-89fd-31d901c39558",
   "metadata": {},
   "outputs": [
    {
     "name": "stdout",
     "output_type": "stream",
     "text": [
      "Cód de Status: 200\n"
     ]
    }
   ],
   "source": [
    "#Criando um cabeçalho com User agent\n",
    "headers = {'User-Agent': 'Chrome/139.0.7258.128 '}\n",
    "\n",
    "#Requisita informações do site\n",
    "response = requests.get(link, headers = headers)\n",
    "\n",
    "#Verifica status de acesso\n",
    "print('Cód de Status:', response.status_code)\n"
   ]
  },
  {
   "cell_type": "code",
   "execution_count": 14,
   "id": "e3d85877-c070-4e3b-a857-ea03f6696a4c",
   "metadata": {},
   "outputs": [],
   "source": [
    "soup = BeautifulSoup(response.content, 'html.parser')"
   ]
  },
  {
   "cell_type": "markdown",
   "id": "e2fdf321-03c0-49d3-bdd7-7685c34e0735",
   "metadata": {},
   "source": [
    "#### Passo 5: Encontrar elementos"
   ]
  },
  {
   "cell_type": "code",
   "execution_count": 15,
   "id": "760b3156-e7b7-4836-a295-19684b56c789",
   "metadata": {},
   "outputs": [
    {
     "data": {
      "text/plain": [
       "33"
      ]
     },
     "execution_count": 15,
     "metadata": {},
     "output_type": "execute_result"
    }
   ],
   "source": [
    "#Encontra as informações contidas na tag de resultado de busca\n",
    "resultados = soup.find_all(class_ = 'ui-search-layout__item')\n",
    "\n",
    "#Conta quantos resultados apareceram na primeira pagina\n",
    "len(resultados)"
   ]
  },
  {
   "cell_type": "markdown",
   "id": "38c49211-d52e-4246-a7ba-d69674e70823",
   "metadata": {},
   "source": [
    "#### Passo 6: Visualizar links dos produtos"
   ]
  },
  {
   "cell_type": "code",
   "execution_count": 17,
   "id": "de0046ce-7989-42ed-96b9-09cd57f1bbd9",
   "metadata": {},
   "outputs": [
    {
     "name": "stdout",
     "output_type": "stream",
     "text": [
      "https://www.mercadolivre.com.br/smart-tv-58-philco-led-4k-google-tv-hdr10-p58kga/p/MLB48895726#polycard_client=search-nordic&searchVariation=MLB48895726&wid=MLB4060862571&position=3&search_layout=grid&type=product&tracking_id=46ffd7d8-ea9b-4497-8288-c3bd35429ba3&sid=search\n",
      "https://www.mercadolivre.com.br/smart-tv-70-crystal-uhd-4k-70du8000-2024-samsung/p/MLB35650763#polycard_client=search-nordic&searchVariation=MLB35650763&wid=MLB4660135102&position=4&search_layout=grid&type=product&tracking_id=46ffd7d8-ea9b-4497-8288-c3bd35429ba3&sid=search\n",
      "https://www.mercadolivre.com.br/smart-tv-50-philco-ptv50va4regb-roku-tv-led-dolby-audio/p/MLB44408782#polycard_client=search-nordic&searchVariation=MLB44408782&wid=MLB3972474057&position=5&search_layout=grid&type=product&tracking_id=46ffd7d8-ea9b-4497-8288-c3bd35429ba3&sid=search\n",
      "https://www.mercadolivre.com.br/smart-tv-aoc-roku-led-50-4k-50u612578g-hdmiusb-preto/up/MLBU3044199534#polycard_client=search-nordic&searchVariation=MLBU3044199534&wid=MLB5302118152&position=6&search_layout=grid&type=product&tracking_id=46ffd7d8-ea9b-4497-8288-c3bd35429ba3&sid=search\n",
      "https://www.mercadolivre.com.br/smart-tv-philips-50-4k-50pug7019-google-tv-comando-de-voz/p/MLB43158430#polycard_client=search-nordic&searchVariation=MLB43158430&wid=MLB3908972845&position=7&search_layout=grid&type=product&tracking_id=46ffd7d8-ea9b-4497-8288-c3bd35429ba3&sid=search\n",
      "https://www.mercadolivre.com.br/smart-tv-philips-70-4k-google-tv-comando-de-voz-70pug7019/p/MLB50744792#polycard_client=search-nordic&searchVariation=MLB50744792&wid=MLB4110057975&position=8&search_layout=grid&type=product&tracking_id=46ffd7d8-ea9b-4497-8288-c3bd35429ba3&sid=search\n",
      "https://www.mercadolivre.com.br/smart-tv-70-70pug740878-70-4k-google-tv-philips/p/MLB27095573#polycard_client=search-nordic&searchVariation=MLB27095573&wid=MLB3813315215&position=9&search_layout=grid&type=product&tracking_id=46ffd7d8-ea9b-4497-8288-c3bd35429ba3&sid=search\n",
      "https://www.mercadolivre.com.br/samsung-smart-tv-70-crystal-uhd-4k-u8500f-2025-xbox-cloud-gaming-canais-gratuitos-7-anos-de-atualizaco-ai-energy-mode-alexa-integrada/p/MLB50657280#polycard_client=search-nordic&searchVariation=MLB50657280&wid=MLB4088466157&override_free-shipping=true&position=10&search_layout=grid&type=product&tracking_id=46ffd7d8-ea9b-4497-8288-c3bd35429ba3&sid=search\n",
      "https://www.mercadolivre.com.br/samsung-smart-tv-70-polegadas-qled-4k-q65d-2024/p/MLB35344834#polycard_client=search-nordic&searchVariation=MLB35344834&wid=MLB3648044063&override_free-shipping=true&position=11&search_layout=grid&type=product&tracking_id=46ffd7d8-ea9b-4497-8288-c3bd35429ba3&sid=search\n",
      "https://www.mercadolivre.com.br/smart-tv-50-philco-ptv50va4regb-roku-tv-led-dolby-110220v/up/MLBU3147902903#polycard_client=search-nordic&searchVariation=MLBU3147902903&wid=MLB5370134756&position=12&search_layout=grid&type=product&tracking_id=46ffd7d8-ea9b-4497-8288-c3bd35429ba3&sid=search\n",
      "https://www.mercadolivre.com.br/smart-tv-philips-50--4k-uhd-google-tv-50pug7019/up/MLBU3316039567#polycard_client=search-nordic&searchVariation=MLBU3316039567&wid=MLB5517906952&position=13&search_layout=grid&type=product&tracking_id=46ffd7d8-ea9b-4497-8288-c3bd35429ba3&sid=search\n",
      "https://produto.mercadolivre.com.br/MLB-5466248464-smart-tv-philips-70-70pug7019-_JM#polycard_client=search-nordic&position=26&search_layout=grid&type=item&tracking_id=46ffd7d8-ea9b-4497-8288-c3bd35429ba3&wid=MLB5466248464&sid=search\n",
      "https://produto.mercadolivre.com.br/MLB-4090587081-smart-tv-58-philco-led-4k-google-tv-hdr10-p58kga-_JM#polycard_client=search-nordic&position=27&search_layout=grid&type=item&tracking_id=46ffd7d8-ea9b-4497-8288-c3bd35429ba3&wid=MLB4090587081&sid=search\n",
      "https://produto.mercadolivre.com.br/MLB-5466360830-tv-70-smart-philips-uhd-4k-google-tv-70pug7408-_JM#polycard_client=search-nordic&position=28&search_layout=grid&type=item&tracking_id=46ffd7d8-ea9b-4497-8288-c3bd35429ba3&wid=MLB5466360830&sid=search\n",
      "https://www.mercadolivre.com.br/smart-tv-70-samsung-crystal-uhd-4k-70du8000-gaming-hub/up/MLBU3364794490#polycard_client=search-nordic&searchVariation=MLBU3364794490&wid=MLB5579514158&position=14&search_layout=grid&type=product&tracking_id=46ffd7d8-ea9b-4497-8288-c3bd35429ba3&sid=search\n",
      "https://www.mercadolivre.com.br/smart-tv-philco-50-polegadas-led-4k-roku-tv-ptv50va4regb/up/MLBU3318007371#polycard_client=search-nordic&searchVariation=MLBU3318007371&wid=MLB5519345988&position=15&search_layout=grid&type=product&tracking_id=46ffd7d8-ea9b-4497-8288-c3bd35429ba3&sid=search\n",
      "https://produto.mercadolivre.com.br/MLB-4090612945-smart-tv-58-philco-led-4k-google-tv-hdr10-p58kga-_JM#polycard_client=search-nordic&position=29&search_layout=grid&type=item&tracking_id=46ffd7d8-ea9b-4497-8288-c3bd35429ba3&wid=MLB4090612945&sid=search\n",
      "https://produto.mercadolivre.com.br/MLB-5461812934-tv-70-smart-philips-uhd-4k-google-tv-70pug7408-_JM#polycard_client=search-nordic&position=30&search_layout=grid&type=item&tracking_id=46ffd7d8-ea9b-4497-8288-c3bd35429ba3&wid=MLB5461812934&sid=search\n",
      "https://produto.mercadolivre.com.br/MLB-3683198603-samsung-smart-tv-70-crystal-uhd-4k-70du8000-2024-_JM#polycard_client=search-nordic&position=31&search_layout=grid&type=item&tracking_id=46ffd7d8-ea9b-4497-8288-c3bd35429ba3&wid=MLB3683198603&sid=search\n",
      "https://produto.mercadolivre.com.br/MLB-5606255778-smart-tv-led-70-ultra-hd-philco-4k-google-tv-e-chromecast-_JM#polycard_client=search-nordic&position=32&search_layout=grid&type=item&tracking_id=46ffd7d8-ea9b-4497-8288-c3bd35429ba3&wid=MLB5606255778&sid=search\n",
      "https://www.mercadolivre.com.br/smart-tv-50-philco-ptv50va4regb-led-roku-tv-dolby-audio/up/MLBU3115342548#polycard_client=search-nordic&searchVariation=MLBU3115342548&wid=MLB4026180045&position=16&search_layout=grid&type=product&tracking_id=46ffd7d8-ea9b-4497-8288-c3bd35429ba3&sid=search\n",
      "https://www.mercadolivre.com.br/smart-tv-50p-philco-ptv50va4regb-roku-tv-led-dolby-audio/up/MLBU3275129021#polycard_client=search-nordic&searchVariation=MLBU3275129021&wid=MLB4118002059&position=17&search_layout=grid&type=product&tracking_id=46ffd7d8-ea9b-4497-8288-c3bd35429ba3&sid=search\n",
      "https://www.mercadolivre.com.br/smart-tv-50p-philco-ptv50va4regb-roku-tv-led-dolby-audio/up/MLBU3275127695#polycard_client=search-nordic&searchVariation=MLBU3275127695&wid=MLB5481622908&position=18&search_layout=grid&type=product&tracking_id=46ffd7d8-ea9b-4497-8288-c3bd35429ba3&sid=search\n",
      "https://www.mercadolivre.com.br/tv-samsung-neo-qled-8k-qn65qn800b-pouco-uso/up/MLBU1460008054#polycard_client=search-nordic&searchVariation=MLBU1460008054&wid=MLB3761218421&position=19&search_layout=grid&type=product&tracking_id=46ffd7d8-ea9b-4497-8288-c3bd35429ba3&sid=search\n",
      "https://www.mercadolivre.com.br/tv-samsung-neo-qled-8k-qn65qn800b-praticamente-sem-uso/up/MLBU3347227853#polycard_client=search-nordic&searchVariation=MLBU3347227853&wid=MLB5557309186&position=20&search_layout=grid&type=product&tracking_id=46ffd7d8-ea9b-4497-8288-c3bd35429ba3&sid=search\n",
      "https://www.mercadolivre.com.br/tv-samsung-neo-qled-8k-qn65qn800b-pouco-uso-a-vista-85-k/up/MLBU1466537363#polycard_client=search-nordic&searchVariation=MLBU1466537363&wid=MLB4132100906&position=21&search_layout=grid&type=product&tracking_id=46ffd7d8-ea9b-4497-8288-c3bd35429ba3&sid=search\n",
      "https://www.mercadolivre.com.br/smart-tv-70--qled-4k-70q65d-2024-frete-gratis/up/MLBU3189335972#polycard_client=search-nordic&searchVariation=MLBU3189335972&wid=MLB4068792515&position=22&search_layout=grid&type=product&tracking_id=46ffd7d8-ea9b-4497-8288-c3bd35429ba3&sid=search\n",
      "https://www.mercadolivre.com.br/smart-tv-70-samsung-crystal-4k-uhd-tela-quebrada/up/MLBU3300693115#polycard_client=search-nordic&searchVariation=MLBU3300693115&wid=MLB5507142572&position=23&search_layout=grid&type=product&tracking_id=46ffd7d8-ea9b-4497-8288-c3bd35429ba3&sid=search\n",
      "https://www.mercadolivre.com.br/tv-samsung-neo-qled-8k-qn65qn800b-poucas-horas-de-uso/up/MLBU3268625135#polycard_client=search-nordic&searchVariation=MLBU3268625135&wid=MLB4113279675&position=24&search_layout=grid&type=product&tracking_id=46ffd7d8-ea9b-4497-8288-c3bd35429ba3&sid=search\n",
      "https://produto.mercadolivre.com.br/MLB-5521648082-tv-samsung-70-com-tela-danificada-modelo-un7otu7000g-_JM#polycard_client=search-nordic&position=33&search_layout=grid&type=item&tracking_id=46ffd7d8-ea9b-4497-8288-c3bd35429ba3&wid=MLB5521648082&sid=search\n",
      "https://www.mercadolivre.com.br/televiso-samsung-ultra-hd-70-smart-tv-thinq-ai-un70au7000gxpe-aceitavel-recondicionado/p/MLB2012918741#polycard_client=search-nordic&searchVariation=MLB2012918741&position=33&search_layout=grid&type=product&tracking_id=46ffd7d8-ea9b-4497-8288-c3bd35429ba3&wid=&sid=search\n",
      "https://www.mercadolivre.com.br/smart-tv-98-philco-android-tv-ptv98f8tagcm-4k-led-dolby/up/MLBU3246626125#polycard_client=search-nordic&searchVariation=MLBU3246626125&wid=MLB4169820137&position=26&search_layout=grid&type=product&tracking_id=46ffd7d8-ea9b-4497-8288-c3bd35429ba3&sid=search\n",
      "https://www.mercadolivre.com.br/smart-tv-98-philco-android-tv-ptv98f8tagcm-4k-led-dolby/p/MLB30658884#polycard_client=search-nordic&searchVariation=MLB30658884&position=35&search_layout=grid&type=product&tracking_id=46ffd7d8-ea9b-4497-8288-c3bd35429ba3&wid=&sid=search\n"
     ]
    }
   ],
   "source": [
    "#Criar uma lista vazia para guardar os links\n",
    "lista_de_links = []\n",
    "\n",
    "#Criar um laço de repetição para filtrar todos os links\n",
    "for i in resultados:\n",
    "    lista_de_links.append(i.find('a')['href'])\n",
    "\n",
    "#Vizualizar links\n",
    "for j in lista_de_links:\n",
    "    print(j)"
   ]
  },
  {
   "cell_type": "markdown",
   "id": "0ff4c565-9c25-4093-a728-821cda9ae289",
   "metadata": {},
   "source": [
    "#### Passo 7: Extrarir informações de cada produto listado"
   ]
  },
  {
   "cell_type": "code",
   "execution_count": 20,
   "id": "5bdb56e7-cd48-4e43-b210-aad3521e3add",
   "metadata": {},
   "outputs": [],
   "source": [
    "#Requisitando informações do link do produto e criando objetos BeautifulSoup\n",
    "produto = BeautifulSoup(requests.get(lista_de_links[0], headers = headers).content, 'html.parser')"
   ]
  },
  {
   "cell_type": "code",
   "execution_count": 21,
   "id": "691d0db1-23a8-4a2e-bb99-5f62bda12287",
   "metadata": {},
   "outputs": [
    {
     "data": {
      "text/plain": [
       "'Smart Tv 58 Philco Led 4k Google Tv Hdr10 P58kga'"
      ]
     },
     "execution_count": 21,
     "metadata": {},
     "output_type": "execute_result"
    }
   ],
   "source": [
    "#Selecionar o titulo\n",
    "produto.find(class_='ui-pdp-title').text"
   ]
  },
  {
   "cell_type": "code",
   "execution_count": 22,
   "id": "0feb6ed0-9db1-48fc-a7c3-c158a3d1cbe2",
   "metadata": {},
   "outputs": [
    {
     "data": {
      "text/plain": [
       "'R$2.137,4834% OFFno Pix'"
      ]
     },
     "execution_count": 22,
     "metadata": {},
     "output_type": "execute_result"
    }
   ],
   "source": [
    "#Selecionar preço\n",
    "produto.find(class_=\"ui-pdp-price__second-line\").text"
   ]
  },
  {
   "cell_type": "code",
   "execution_count": 23,
   "id": "2aebc96e-b4bc-4a32-9fe4-7b4ab9831abe",
   "metadata": {},
   "outputs": [
    {
     "data": {
      "text/plain": [
       "'Novo  |  +5mil vendidos'"
      ]
     },
     "execution_count": 23,
     "metadata": {},
     "output_type": "execute_result"
    }
   ],
   "source": [
    "#Selecionar quantidade de vendas\n",
    "produto.find(class_=\"ui-pdp-subtitle\").text"
   ]
  },
  {
   "cell_type": "code",
   "execution_count": 24,
   "id": "3a7f6be2-8266-4d58-be12-5cd2d77aa686",
   "metadata": {},
   "outputs": [
    {
     "data": {
      "text/plain": [
       "'DescriçãoA Smart TV Philco 58” 4K UHD P58KGA com Google TV foi desenvolvida para quem busca aliar alta qualidade de imagem, conectividade inteligente e excelente custo-benefício. Com tela de 58 polegadas, resolução Ultra HD e suporte a HDR10, ela proporciona uma experiência visual rica em detalhes, cores vibrantes e contraste superior — ideal para filmes, séries, esportes e games. Seu design moderno com bordas finas confere sofisticação ao ambiente, seja na sala de estar, quarto ou até em espaços comerciais.Equipada com o sistema operacional Google TV, a P58KGA oferece uma navegação fluida, intuitiva e altamente personalizada. O acesso direto a aplicativos como Netflix, YouTube, Prime Video e Globoplay, além de milhares de outros via Google Play, transforma a televisão em um verdadeiro hub de entretenimento. Com controle remoto por voz, comandos integrados ao Google Assistente e Chromecast embutido, o usuário tem liberdade total para interagir com a TV sem tocar em nenhum botão.Outro destaque está na conectividade: com Wi-Fi Dual Band, Bluetooth 5.1, múltiplas entradas HDMI 2.1 e USB, a Philco P58KGA permite conectar facilmente soundbars, videogames, notebooks e outros dispositivos. Seu sistema de som com tecnologia Dolby Audio complementa a imersão audiovisual, entregando áudio mais limpo e envolvente. Pensada para oferecer uma experiência completa, a P58KGA une desempenho, praticidade e recursos inteligentes em um único produto.'"
      ]
     },
     "execution_count": 24,
     "metadata": {},
     "output_type": "execute_result"
    }
   ],
   "source": [
    "#Selecionar a descrição\n",
    "produto.find(class_=\"ui-pdp-description\").text"
   ]
  },
  {
   "cell_type": "markdown",
   "id": "21e7b651-dd7b-48ca-a91a-f62f393105bf",
   "metadata": {},
   "source": [
    "#### Criar tabela para armazenar dados"
   ]
  },
  {
   "cell_type": "code",
   "execution_count": 28,
   "id": "bb8b5a8c-69aa-41bd-b3bc-24406da1fc15",
   "metadata": {},
   "outputs": [
    {
     "data": {
      "text/html": [
       "<div>\n",
       "<style scoped>\n",
       "    .dataframe tbody tr th:only-of-type {\n",
       "        vertical-align: middle;\n",
       "    }\n",
       "\n",
       "    .dataframe tbody tr th {\n",
       "        vertical-align: top;\n",
       "    }\n",
       "\n",
       "    .dataframe thead th {\n",
       "        text-align: right;\n",
       "    }\n",
       "</style>\n",
       "<table border=\"1\" class=\"dataframe\">\n",
       "  <thead>\n",
       "    <tr style=\"text-align: right;\">\n",
       "      <th></th>\n",
       "      <th>Titulo</th>\n",
       "      <th>Preço</th>\n",
       "      <th>Quantidade de vendas</th>\n",
       "      <th>Descrisção do produto</th>\n",
       "    </tr>\n",
       "  </thead>\n",
       "  <tbody>\n",
       "  </tbody>\n",
       "</table>\n",
       "</div>"
      ],
      "text/plain": [
       "Empty DataFrame\n",
       "Columns: [Titulo, Preço, Quantidade de vendas, Descrisção do produto]\n",
       "Index: []"
      ]
     },
     "execution_count": 28,
     "metadata": {},
     "output_type": "execute_result"
    }
   ],
   "source": [
    "#Criar o nome de cada coluna\n",
    "colunas = ['Titulo','Preço','Quantidade de vendas','Descrisção do produto']\n",
    "\n",
    "#Criar tabela com as coluns informadas\n",
    "tabela = pd.DataFrame(columns = colunas)\n",
    "\n",
    "#Vizualizar tabela\n",
    "tabela"
   ]
  },
  {
   "cell_type": "code",
   "execution_count": 32,
   "id": "7583ec57-8f07-4183-b086-481e68cb21b9",
   "metadata": {},
   "outputs": [
    {
     "name": "stdout",
     "output_type": "stream",
     "text": [
      "Houve um problema no link de índice: 0\n",
      "Houve um problema no link de índice: 1\n",
      "Houve um problema no link de índice: 2\n",
      "Houve um problema no link de índice: 3\n",
      "Houve um problema no link de índice: 4\n",
      "Houve um problema no link de índice: 5\n",
      "Houve um problema no link de índice: 6\n",
      "Houve um problema no link de índice: 7\n",
      "Houve um problema no link de índice: 8\n",
      "Houve um problema no link de índice: 9\n",
      "Houve um problema no link de índice: 10\n",
      "Houve um problema no link de índice: 11\n",
      "Houve um problema no link de índice: 12\n",
      "Houve um problema no link de índice: 13\n",
      "Houve um problema no link de índice: 14\n",
      "Houve um problema no link de índice: 15\n",
      "Houve um problema no link de índice: 16\n",
      "Houve um problema no link de índice: 17\n",
      "Houve um problema no link de índice: 18\n",
      "Houve um problema no link de índice: 19\n",
      "Houve um problema no link de índice: 20\n",
      "Houve um problema no link de índice: 21\n",
      "Houve um problema no link de índice: 22\n",
      "Houve um problema no link de índice: 23\n",
      "Houve um problema no link de índice: 24\n",
      "Houve um problema no link de índice: 25\n",
      "Houve um problema no link de índice: 26\n",
      "Houve um problema no link de índice: 27\n",
      "Houve um problema no link de índice: 28\n",
      "Houve um problema no link de índice: 29\n",
      "Houve um problema no link de índice: 30\n",
      "Houve um problema no link de índice: 31\n",
      "Houve um problema no link de índice: 32\n"
     ]
    }
   ],
   "source": [
    "id = 0 #Contador\n",
    "\n",
    "for j in lista_de_links:\n",
    "    try:\n",
    "        #Requisitando informações do link do produto e criando objetos BeautifulSoup\n",
    "        produto = BeautifulSoup(requests.get(j, headers = headers).content, 'html.parser')\n",
    "\n",
    "        #Selecionar o titulo\n",
    "        titulo = produto.find(class_='ui-pdp-title').text\n",
    "        \n",
    "        #Selecionar preço\n",
    "        preco = produto.find(class_=\"ui-pdp-price__second-line\").text\n",
    "\n",
    "        #Selecionar quantidade de vendas\n",
    "        vendidos = produto.find(class_=\"ui-pdp-subtitle\").text\n",
    "\n",
    "        #Selecionar a descrição\n",
    "        descricao = produto.find(class_=\"ui-pdp-description\").text\n",
    "\n",
    "        #Insere uma nova linha na tabela com as informações do produto\n",
    "        tabela.loc[len(tabela)] = [titulo, preco, vendidos, descricao]\n",
    "    except:\n",
    "        print(f'Houve um problema no link de índice: {id}')\n",
    "    #Incrementar uma posição no contador\n",
    "    id = id+1"
   ]
  },
  {
   "cell_type": "code",
   "execution_count": 33,
   "id": "8680a07d-dd57-478f-a361-6e48539aa582",
   "metadata": {},
   "outputs": [
    {
     "data": {
      "text/html": [
       "<div>\n",
       "<style scoped>\n",
       "    .dataframe tbody tr th:only-of-type {\n",
       "        vertical-align: middle;\n",
       "    }\n",
       "\n",
       "    .dataframe tbody tr th {\n",
       "        vertical-align: top;\n",
       "    }\n",
       "\n",
       "    .dataframe thead th {\n",
       "        text-align: right;\n",
       "    }\n",
       "</style>\n",
       "<table border=\"1\" class=\"dataframe\">\n",
       "  <thead>\n",
       "    <tr style=\"text-align: right;\">\n",
       "      <th></th>\n",
       "      <th>Titulo</th>\n",
       "      <th>Preço</th>\n",
       "      <th>Quantidade de vendas</th>\n",
       "      <th>Descrisção do produto</th>\n",
       "    </tr>\n",
       "  </thead>\n",
       "  <tbody>\n",
       "    <tr>\n",
       "      <th>0</th>\n",
       "      <td>Smart Tv 58 Philco Led 4k Google Tv Hdr10 P58kga</td>\n",
       "      <td>R$2.137,4834% OFFno Pix</td>\n",
       "      <td>Novo  |  +5mil vendidos</td>\n",
       "      <td>DescriçãoA Smart TV Philco 58” 4K UHD P58KGA c...</td>\n",
       "    </tr>\n",
       "    <tr>\n",
       "      <th>1</th>\n",
       "      <td>Smart TV 70'' Crystal UHD 4K 70DU8000 2024 Sam...</td>\n",
       "      <td>R$4.209,4127% OFFno Pix ouSaldo no Mercado Pago</td>\n",
       "      <td>Novo  |  +1000 vendidos</td>\n",
       "      <td>DescriçãoFINA, ELEGANTE E INTELIGENTE: NUNCA F...</td>\n",
       "    </tr>\n",
       "    <tr>\n",
       "      <th>2</th>\n",
       "      <td>Smart TV 50” Philco PTV50VA4REGB Roku TV LED D...</td>\n",
       "      <td>R$1.88337% OFF</td>\n",
       "      <td>Novo  |  +10mil vendidos</td>\n",
       "      <td>DescriçãoA Smart TV Philco PTV50VA4REGB é a es...</td>\n",
       "    </tr>\n",
       "    <tr>\n",
       "      <th>3</th>\n",
       "      <td>Smart Tv Aoc Roku Led 50'' 4k 50u6125/78g Hdmi...</td>\n",
       "      <td>R$2.377,82</td>\n",
       "      <td>Novo  |  4 vendidos</td>\n",
       "      <td>DescriçãoSomos a Mega Byte, loja física e onli...</td>\n",
       "    </tr>\n",
       "    <tr>\n",
       "      <th>4</th>\n",
       "      <td>Smart Tv Philips 50 4k 50pug7019 Google Tv Com...</td>\n",
       "      <td>R$1.84914% OFF</td>\n",
       "      <td>Novo  |  +10mil vendidos</td>\n",
       "      <td>DescriçãoSmart TV Philips Série 7019  - Google...</td>\n",
       "    </tr>\n",
       "    <tr>\n",
       "      <th>5</th>\n",
       "      <td>Smart Tv Philips 70 4k Google Tv Comando De Vo...</td>\n",
       "      <td>R$3.69921% OFF</td>\n",
       "      <td>Novo  |  +100 vendidos</td>\n",
       "      <td>DescriçãoSmart TV Philips Série 7019  - Google...</td>\n",
       "    </tr>\n",
       "    <tr>\n",
       "      <th>6</th>\n",
       "      <td>Smart Tv 70'' 70pug7408/78 70 4k Google Tv Phi...</td>\n",
       "      <td>R$4.0996% OFF</td>\n",
       "      <td>Novo  |  +1000 vendidos</td>\n",
       "      <td>DescriçãoIMAGENS VIBRANTES SEMPRE!A Smart TV P...</td>\n",
       "    </tr>\n",
       "    <tr>\n",
       "      <th>7</th>\n",
       "      <td>Samsung Smart Tv 70 Crystal Uhd 4k U8500f 2025...</td>\n",
       "      <td>R$5.276,67</td>\n",
       "      <td>Novo  |  +5 vendidos</td>\n",
       "      <td>DescriçãoSamsung Smart TV 70\" Crystal UHD 4K U...</td>\n",
       "    </tr>\n",
       "    <tr>\n",
       "      <th>8</th>\n",
       "      <td>Samsung Smart Tv 70 Polegadas Qled 4k Q65d 2024</td>\n",
       "      <td>R$6.598,89</td>\n",
       "      <td>Novo  |  +100 vendidos</td>\n",
       "      <td>DescriçãoProcessador Quantum Lite 4KTransforme...</td>\n",
       "    </tr>\n",
       "    <tr>\n",
       "      <th>9</th>\n",
       "      <td>Smart Tv 50 Philco Ptv50va4regb Roku Tv Led Do...</td>\n",
       "      <td>R$1.844,1032% OFFno Pix</td>\n",
       "      <td>Novo  |  +100 vendidos</td>\n",
       "      <td>DescriçãoA Smart TV Philco PTV50VA4REGB é a es...</td>\n",
       "    </tr>\n",
       "    <tr>\n",
       "      <th>10</th>\n",
       "      <td>Smart Tv Philips 50  4k Uhd Google Tv 50pug7019</td>\n",
       "      <td>R$1.84914% OFF</td>\n",
       "      <td>Novo  |  +5 vendidos</td>\n",
       "      <td>DescriçãoSmart TV Philips 50 4K UHD Google TV ...</td>\n",
       "    </tr>\n",
       "    <tr>\n",
       "      <th>11</th>\n",
       "      <td>Smart Tv Philips 70  70pug7019</td>\n",
       "      <td>R$4.089,3818% OFF</td>\n",
       "      <td>Novo  |  +5 vendidos</td>\n",
       "      <td>DescriçãoIMERSÃO VISUAL INCRÍVEL!Experimente a...</td>\n",
       "    </tr>\n",
       "    <tr>\n",
       "      <th>12</th>\n",
       "      <td>Smart Tv 58 Philco Led 4k Google Tv Hdr10 P58kga</td>\n",
       "      <td>R$2.63921% OFF</td>\n",
       "      <td>Novo  |  3 vendidos</td>\n",
       "      <td>DescriçãoA Smart TV Philco 58” 4K UHD P58KGA c...</td>\n",
       "    </tr>\n",
       "    <tr>\n",
       "      <th>13</th>\n",
       "      <td>Tv 70  Smart Philips Uhd 4k Google Tv 70pug7408</td>\n",
       "      <td>R$6.999</td>\n",
       "      <td>Novo  |  +25 vendidos</td>\n",
       "      <td>DescriçãoVisual e operação inteligentes. Image...</td>\n",
       "    </tr>\n",
       "    <tr>\n",
       "      <th>14</th>\n",
       "      <td>Smart Tv 70'' Samsung Crystal Uhd 4k 70du8000 ...</td>\n",
       "      <td>R$5.338,9611% OFF</td>\n",
       "      <td>Novo</td>\n",
       "      <td>DescriçãoA Smart TV Samsung Crystal UHD 4K de ...</td>\n",
       "    </tr>\n",
       "    <tr>\n",
       "      <th>15</th>\n",
       "      <td>Smart Tv Philco 50 Polegadas Led 4k Roku Tv Pt...</td>\n",
       "      <td>R$1.89510% OFF</td>\n",
       "      <td>Novo</td>\n",
       "      <td>DescriçãoA Smart TV Philco de 50 polegadas com...</td>\n",
       "    </tr>\n",
       "    <tr>\n",
       "      <th>16</th>\n",
       "      <td>Smart Tv 58 Philco Led 4k Google Tv Hdr10 P58kga</td>\n",
       "      <td>R$2.52420% OFF</td>\n",
       "      <td>Novo</td>\n",
       "      <td>DescriçãoA Smart TV Philco 58” 4K UHD P58KGA c...</td>\n",
       "    </tr>\n",
       "    <tr>\n",
       "      <th>17</th>\n",
       "      <td>Tv 70  Smart Philips Uhd 4k Google Tv 70pug7408</td>\n",
       "      <td>R$7.000</td>\n",
       "      <td>Novo  |  1 vendido</td>\n",
       "      <td>DescriçãoVisual e operação inteligentes. Image...</td>\n",
       "    </tr>\n",
       "    <tr>\n",
       "      <th>18</th>\n",
       "      <td>Samsung Smart Tv 70  Crystal Uhd 4k 70du8000 2024</td>\n",
       "      <td>R$4.998,89</td>\n",
       "      <td>Novo  |  +100 vendidos</td>\n",
       "      <td>DescriçãoSamsung Smart TV 70\" Crystal UHD 4K 7...</td>\n",
       "    </tr>\n",
       "    <tr>\n",
       "      <th>19</th>\n",
       "      <td>Smart Tv Led 70  Ultra Hd Philco 4k  Google Tv...</td>\n",
       "      <td>R$4.799</td>\n",
       "      <td>Novo</td>\n",
       "      <td>DescriçãoSmart TV LED 70\" Ultra HD Philco 4K, ...</td>\n",
       "    </tr>\n",
       "    <tr>\n",
       "      <th>20</th>\n",
       "      <td>Smart Tv 50 Philco Ptv50va4regb Led Roku Tv Do...</td>\n",
       "      <td>R$1.835,1030% OFFno Pix</td>\n",
       "      <td>Novo  |  +50 vendidos</td>\n",
       "      <td>DescriçãoSMART TV 50” PHILCO PTV50VA4REGB LED ...</td>\n",
       "    </tr>\n",
       "    <tr>\n",
       "      <th>21</th>\n",
       "      <td>Smart Tv 50p Philco Ptv50va4regb Roku Tv Led D...</td>\n",
       "      <td>R$3.994,80</td>\n",
       "      <td>Novo</td>\n",
       "      <td>DescriçãoTv Smart 50 Polegadas 4K PTV50G70R2CB...</td>\n",
       "    </tr>\n",
       "  </tbody>\n",
       "</table>\n",
       "</div>"
      ],
      "text/plain": [
       "                                               Titulo  \\\n",
       "0    Smart Tv 58 Philco Led 4k Google Tv Hdr10 P58kga   \n",
       "1   Smart TV 70'' Crystal UHD 4K 70DU8000 2024 Sam...   \n",
       "2   Smart TV 50” Philco PTV50VA4REGB Roku TV LED D...   \n",
       "3   Smart Tv Aoc Roku Led 50'' 4k 50u6125/78g Hdmi...   \n",
       "4   Smart Tv Philips 50 4k 50pug7019 Google Tv Com...   \n",
       "5   Smart Tv Philips 70 4k Google Tv Comando De Vo...   \n",
       "6   Smart Tv 70'' 70pug7408/78 70 4k Google Tv Phi...   \n",
       "7   Samsung Smart Tv 70 Crystal Uhd 4k U8500f 2025...   \n",
       "8     Samsung Smart Tv 70 Polegadas Qled 4k Q65d 2024   \n",
       "9   Smart Tv 50 Philco Ptv50va4regb Roku Tv Led Do...   \n",
       "10    Smart Tv Philips 50  4k Uhd Google Tv 50pug7019   \n",
       "11                     Smart Tv Philips 70  70pug7019   \n",
       "12   Smart Tv 58 Philco Led 4k Google Tv Hdr10 P58kga   \n",
       "13    Tv 70  Smart Philips Uhd 4k Google Tv 70pug7408   \n",
       "14  Smart Tv 70'' Samsung Crystal Uhd 4k 70du8000 ...   \n",
       "15  Smart Tv Philco 50 Polegadas Led 4k Roku Tv Pt...   \n",
       "16   Smart Tv 58 Philco Led 4k Google Tv Hdr10 P58kga   \n",
       "17    Tv 70  Smart Philips Uhd 4k Google Tv 70pug7408   \n",
       "18  Samsung Smart Tv 70  Crystal Uhd 4k 70du8000 2024   \n",
       "19  Smart Tv Led 70  Ultra Hd Philco 4k  Google Tv...   \n",
       "20  Smart Tv 50 Philco Ptv50va4regb Led Roku Tv Do...   \n",
       "21  Smart Tv 50p Philco Ptv50va4regb Roku Tv Led D...   \n",
       "\n",
       "                                              Preço      Quantidade de vendas  \\\n",
       "0                           R$2.137,4834% OFFno Pix   Novo  |  +5mil vendidos   \n",
       "1   R$4.209,4127% OFFno Pix ouSaldo no Mercado Pago   Novo  |  +1000 vendidos   \n",
       "2                                    R$1.88337% OFF  Novo  |  +10mil vendidos   \n",
       "3                                        R$2.377,82       Novo  |  4 vendidos   \n",
       "4                                    R$1.84914% OFF  Novo  |  +10mil vendidos   \n",
       "5                                    R$3.69921% OFF    Novo  |  +100 vendidos   \n",
       "6                                     R$4.0996% OFF   Novo  |  +1000 vendidos   \n",
       "7                                        R$5.276,67      Novo  |  +5 vendidos   \n",
       "8                                        R$6.598,89    Novo  |  +100 vendidos   \n",
       "9                           R$1.844,1032% OFFno Pix    Novo  |  +100 vendidos   \n",
       "10                                   R$1.84914% OFF      Novo  |  +5 vendidos   \n",
       "11                                R$4.089,3818% OFF      Novo  |  +5 vendidos   \n",
       "12                                   R$2.63921% OFF       Novo  |  3 vendidos   \n",
       "13                                          R$6.999     Novo  |  +25 vendidos   \n",
       "14                                R$5.338,9611% OFF                      Novo   \n",
       "15                                   R$1.89510% OFF                      Novo   \n",
       "16                                   R$2.52420% OFF                      Novo   \n",
       "17                                          R$7.000        Novo  |  1 vendido   \n",
       "18                                       R$4.998,89    Novo  |  +100 vendidos   \n",
       "19                                          R$4.799                      Novo   \n",
       "20                          R$1.835,1030% OFFno Pix     Novo  |  +50 vendidos   \n",
       "21                                       R$3.994,80                      Novo   \n",
       "\n",
       "                                Descrisção do produto  \n",
       "0   DescriçãoA Smart TV Philco 58” 4K UHD P58KGA c...  \n",
       "1   DescriçãoFINA, ELEGANTE E INTELIGENTE: NUNCA F...  \n",
       "2   DescriçãoA Smart TV Philco PTV50VA4REGB é a es...  \n",
       "3   DescriçãoSomos a Mega Byte, loja física e onli...  \n",
       "4   DescriçãoSmart TV Philips Série 7019  - Google...  \n",
       "5   DescriçãoSmart TV Philips Série 7019  - Google...  \n",
       "6   DescriçãoIMAGENS VIBRANTES SEMPRE!A Smart TV P...  \n",
       "7   DescriçãoSamsung Smart TV 70\" Crystal UHD 4K U...  \n",
       "8   DescriçãoProcessador Quantum Lite 4KTransforme...  \n",
       "9   DescriçãoA Smart TV Philco PTV50VA4REGB é a es...  \n",
       "10  DescriçãoSmart TV Philips 50 4K UHD Google TV ...  \n",
       "11  DescriçãoIMERSÃO VISUAL INCRÍVEL!Experimente a...  \n",
       "12  DescriçãoA Smart TV Philco 58” 4K UHD P58KGA c...  \n",
       "13  DescriçãoVisual e operação inteligentes. Image...  \n",
       "14  DescriçãoA Smart TV Samsung Crystal UHD 4K de ...  \n",
       "15  DescriçãoA Smart TV Philco de 50 polegadas com...  \n",
       "16  DescriçãoA Smart TV Philco 58” 4K UHD P58KGA c...  \n",
       "17  DescriçãoVisual e operação inteligentes. Image...  \n",
       "18  DescriçãoSamsung Smart TV 70\" Crystal UHD 4K 7...  \n",
       "19  DescriçãoSmart TV LED 70\" Ultra HD Philco 4K, ...  \n",
       "20  DescriçãoSMART TV 50” PHILCO PTV50VA4REGB LED ...  \n",
       "21  DescriçãoTv Smart 50 Polegadas 4K PTV50G70R2CB...  "
      ]
     },
     "execution_count": 33,
     "metadata": {},
     "output_type": "execute_result"
    }
   ],
   "source": [
    "#Visualizar tabela preeenchida\n",
    "tabela"
   ]
  },
  {
   "cell_type": "markdown",
   "id": "51ec2c9b-79da-4f39-9c13-6e4d38ffea17",
   "metadata": {},
   "source": [
    "#### Passo 8: Salvar tabela em uma planilha de Excel"
   ]
  },
  {
   "cell_type": "code",
   "execution_count": 34,
   "id": "f9a643df-5d90-467a-876d-1bb207bcb178",
   "metadata": {},
   "outputs": [],
   "source": [
    "tabela.to_excel('Lista de produtos.xlsx')"
   ]
  },
  {
   "cell_type": "markdown",
   "id": "f811c6cd-0eb7-483d-83bc-2bb8bde68bbc",
   "metadata": {},
   "source": [
    "### Exercício 1: Encontrar uma solução para listar todos os resultados quando houver 2 ou mais páginas de resultado"
   ]
  },
  {
   "cell_type": "code",
   "execution_count": null,
   "id": "a82c1579-2100-4bfe-82ce-cf2d9bc1176a",
   "metadata": {},
   "outputs": [],
   "source": []
  },
  {
   "cell_type": "markdown",
   "id": "c1295382-95f4-4fe0-bc4f-28c8b95138c8",
   "metadata": {},
   "source": [
    "### Exercício 1.1 (extra): Formatar os dados da tabela"
   ]
  },
  {
   "cell_type": "code",
   "execution_count": null,
   "id": "7dc2f334-dd25-4266-adc4-7c857305026c",
   "metadata": {},
   "outputs": [],
   "source": []
  },
  {
   "cell_type": "markdown",
   "id": "df29f71d-1a7b-4f6c-a41c-b5fbda9e0d31",
   "metadata": {},
   "source": [
    "### Exercício 2: Faça o mesmo processo para outro marketplace, por exemplo, Magazine Luiza, Amazon, etc."
   ]
  },
  {
   "cell_type": "code",
   "execution_count": null,
   "id": "e9017f10-3f23-44ad-be1b-a57f9f9e0283",
   "metadata": {},
   "outputs": [],
   "source": []
  }
 ],
 "metadata": {
  "kernelspec": {
   "display_name": "Python 3 (ipykernel)",
   "language": "python",
   "name": "python3"
  },
  "language_info": {
   "codemirror_mode": {
    "name": "ipython",
    "version": 3
   },
   "file_extension": ".py",
   "mimetype": "text/x-python",
   "name": "python",
   "nbconvert_exporter": "python",
   "pygments_lexer": "ipython3",
   "version": "3.12.7"
  }
 },
 "nbformat": 4,
 "nbformat_minor": 5
}
